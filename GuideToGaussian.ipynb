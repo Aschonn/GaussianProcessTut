{
 "cells": [
  {
   "cell_type": "markdown",
   "id": "d3373201",
   "metadata": {},
   "source": [
    "<h1>Intuitive Guide to Gaussian Processes</h1>"
   ]
  },
  {
   "cell_type": "markdown",
   "id": "bcee6098",
   "metadata": {},
   "source": [
    "<br>"
   ]
  },
  {
   "cell_type": "markdown",
   "id": "9449bd91",
   "metadata": {},
   "source": [
    "Gaussian processes have many uses that range robotics, machine learning tasks, or simple fitting of function to data points (regression). The importance of GP cannot be understated, but <i>INTUTITVELY</i> understanding GP's is easier said than done. When conducting research I found limited resources that were difficult to understand. In this notebook I hope to reduce the amount of complexity and provide and easy way to understand GP's and illustrate why they are very important. \n",
    "\n",
    "\n",
    "Without futher ado, lets get started:\n",
    "\n",
    "\n",
    "Before we start here are a few questions with answer that we must know...\n",
    "\n",
    "<br>\n",
    "<br>\n",
    "        \n",
    "1) What is a Gaussian Process?  \n",
    "        \n",
    "        - Gaussian processes are a powerful tool that allow us to make predictions about our data by incorporating prior knowledge.\n",
    "\n",
    "\n",
    "2) Are GP's regression problems? What is regression?  \n",
    "\n",
    "      - Regression is the process of receiving points (training data) and creating a function/prediction from those points. There can be multiple possible functions that fit our data, so we need a way to track how CERTAIN/UNCERTAIN these functions/predictions will be.\n",
    "      \n",
    "      \n",
    "      \n",
    "                        Below you can see that multiple functions work with the observed points.\n",
    "                                Click the \"add random drawing\" and a function will appear. \n",
    "<br>\n",
    "<br>\n"
   ]
  },
  {
   "cell_type": "code",
   "execution_count": 1,
   "id": "8a41fbef",
   "metadata": {},
   "outputs": [
    {
     "ename": "ModuleNotFoundError",
     "evalue": "No module named 'utils'",
     "output_type": "error",
     "traceback": [
      "\u001b[1;31m---------------------------------------------------------------------------\u001b[0m",
      "\u001b[1;31mModuleNotFoundError\u001b[0m                       Traceback (most recent call last)",
      "Input \u001b[1;32mIn [1]\u001b[0m, in \u001b[0;36m<cell line: 1>\u001b[1;34m()\u001b[0m\n\u001b[1;32m----> 1\u001b[0m \u001b[38;5;28;01mfrom\u001b[39;00m \u001b[38;5;21;01mutils\u001b[39;00m\u001b[38;5;21;01m.\u001b[39;00m\u001b[38;5;21;01mhide_toggle\u001b[39;00m \u001b[38;5;28;01mimport\u001b[39;00m hide_toggle\n\u001b[0;32m      2\u001b[0m hide_toggle(for_next \u001b[38;5;241m=\u001b[39m \u001b[38;5;28;01mTrue\u001b[39;00m)\n",
      "\u001b[1;31mModuleNotFoundError\u001b[0m: No module named 'utils'"
     ]
    }
   ],
   "source": [
    "from utils.hide_toggle import hide_toggle\n",
    "hide_toggle(for_next = True)"
   ]
  },
  {
   "cell_type": "code",
   "execution_count": null,
   "id": "4d1d264a",
   "metadata": {
    "tags": [
     "hide-input"
    ]
   },
   "outputs": [],
   "source": [
    "'''\n",
    "    Run block to display of adding functions to sample points\n",
    "'''\n",
    "\n",
    "\n",
    "from GPR import GPR\n",
    "import numpy as np\n",
    "import plotly.graph_objects as go\n",
    "from ipywidgets import interact, widgets\n",
    "from plots import *\n",
    "from GPR import GPR\n",
    "import numpy as np\n",
    "import plotly.graph_objects as go\n",
    "from ipywidgets import interact, widgets\n",
    "from plots import *\n",
    "\n",
    "x_values = np.array([0, 0.3, 1, 3.1, 4.7])\n",
    "y_values = np.array([1, 0, 1.4, 0, -0.9])\n",
    "x = np.arange(-1,7,0.1)\n",
    "\n",
    "model = GPR(x_values, y_values)\n",
    "\n",
    "mean = model.predict(x)\n",
    "covariance_matrix = model._memory['covariance_matrix']\n",
    "\n",
    "fig1 = go.FigureWidget(data=[dot_scatter(x_dots=x_values, y_dots=y_values)])\n",
    "fig1 = update_layout_of_graph(fig1, title='Random Regression functions of the Gaussian process')\n",
    "\n",
    "button = widgets.Button(description='Add random drawing')\n",
    "\n",
    "\n",
    "def update(_):\n",
    "    with fig1.batch_update():\n",
    "        fig1.add_trace(\n",
    "            line_scatter(x_lines=x,\n",
    "                         y_lines=np.random.multivariate_normal(\n",
    "                             mean, covariance_matrix),\n",
    "                         name_line='random function',\n",
    "                         showlegend=False))\n",
    "        fig1.add_trace(\n",
    "            dot_scatter(x_dots=x_values, y_dots=y_values, showlegend=False))\n",
    "        \n",
    "        fig1.show()\n",
    "\n",
    "button.on_click(update)\n",
    "widgets.VBox([fig1, button])\n",
    "\n"
   ]
  },
  {
   "cell_type": "markdown",
   "id": "807342f4",
   "metadata": {},
   "source": [
    "3) What is a Gaussian Distribution? \n",
    "        \n",
    "       - A GP is defined the equation below and looks very similar to a bell graph. For each points or value assigned will produce a gaussian distribution and each point encompasses a mean and a covariance. mean describing the expected value of the function, whereas the covariance matrix defines the shape of the uncertainty. \n",
    "      \n",
    "\n",
    "<div>\n",
    "    <br>\n",
    "    <td>\n",
    "        <img src=\"https://www.gstatic.com/education/formulas2/443397389/en/normal_distribution.svg\" width=\"400\"/> [2]\n",
    "    </td>\n",
    "    <br>\n",
    "</div>\n",
    "\n",
    "                        This equation can be specified using mean vector and covariance matrix. \n",
    "\n",
    "\n",
    "<br>\n",
    "<br>\n"
   ]
  },
  {
   "cell_type": "markdown",
   "id": "4599d50a",
   "metadata": {},
   "source": [
    "4) Why is does being certain/uncertain matter?  \n",
    "      \n",
    "      - As seen above uncertainy determines how far away a function can deviate from the center (mean). By measuring uncertainty we can be more certain. Kinda funny saying it out loud but it applies in this situation and is in fact an effective learning process for exploring and a better understanding our search space.\n",
    "      \n",
    "                      Below we illustrate uncertainy changes as you add more sample points. \n",
    "      "
   ]
  },
  {
   "cell_type": "code",
   "execution_count": null,
   "id": "49bc5794",
   "metadata": {},
   "outputs": [],
   "source": [
    "hide_toggle(for_next = True)"
   ]
  },
  {
   "cell_type": "code",
   "execution_count": null,
   "id": "20b50663",
   "metadata": {
    "scrolled": true,
    "tags": [
     "hide-input"
    ]
   },
   "outputs": [],
   "source": [
    "'''\n",
    "\n",
    "    Sometimes you will have to uncomment the fig.show() in the update section to see graph. \n",
    "\n",
    "'''\n",
    "\n",
    "\n",
    "def plot_GPR(data_x, data_y, model, x, visible=True) -> list:\n",
    "    \n",
    "    mean = model.predict(x)\n",
    "    std = np.sqrt(model._memory['variance'])\n",
    "    \n",
    "    \n",
    "    data = [\n",
    "        \n",
    "        uncertainty_area_scatter(x_lines=x, y_lower=mean - 1 * std, y_upper=mean + 1 * std,\n",
    "                name=f\"uncertainty\",\n",
    "                visible=visible),\n",
    "\n",
    "        line_scatter(x_lines=x, y_lines=mean, visible=visible),\n",
    "        dot_scatter(x_dots=data_x, y_dots=data_y, visible=visible)\n",
    "    \n",
    "    ]\n",
    "    \n",
    "    return data\n",
    "\n",
    "model = GPR(x_values[:1], y_values[:1])\n",
    "\n",
    "data = plot_GPR(data_x=x_values[:1], data_y=y_values[:1], x=x, model=model)\n",
    "\n",
    "fig2 = go.FigureWidget(data=data)\n",
    "fig2 = update_layout_of_graph(fig2, title='Prediction (i.e. mean) of GPR')\n",
    "\n",
    "button = widgets.Button(description='Add data point')\n",
    "\n",
    "number_of_points = 1\n",
    "\n",
    "# we update the y values of our 4 scatter plots \n",
    "def update(_):\n",
    "    with fig2.batch_update():\n",
    "        global number_of_points\n",
    "        if number_of_points < len(x_values):\n",
    "            number_of_points += 1\n",
    "            model = GPR(x_values[:number_of_points],\n",
    "                        y_values[:number_of_points])\n",
    "            mean = model.predict(x)\n",
    "            fig2.data[1].y = mean\n",
    "            y_upper = mean + 1 * np.sqrt(model._memory['variance'])\n",
    "            y_lower = mean - 1 * np.sqrt(model._memory['variance'])\n",
    "            fig2.data[0].y = np.concatenate((y_upper, y_lower[::-1]))\n",
    "            fig2.data[2].x = x_values[:number_of_points]\n",
    "            fig2.data[2].y = y_values[:number_of_points]\n",
    "            fig2.show() # uncomment if graph shows\n",
    "\n",
    "button.on_click(update)\n",
    "widgets.VBox([fig2, button])"
   ]
  },
  {
   "cell_type": "markdown",
   "id": "a47e5863",
   "metadata": {},
   "source": [
    "We have discussed the basics of guassian processes and this will be vital to understanding Deep Gaussian Processes. There are many different layers including Marginalization and Conditioning, which can be found in these helpful sources below.\n",
    "\n",
    "\n",
    "\n",
    "https://distill.pub/2019/visual-exploration-gaussian-processes/\n",
    "https://www.ritchievink.com/blog/2019/02/01/an-intuitive-introduction-to-gaussian-processes/\n"
   ]
  },
  {
   "cell_type": "code",
   "execution_count": null,
   "id": "15b2bcff",
   "metadata": {},
   "outputs": [],
   "source": []
  },
  {
   "cell_type": "code",
   "execution_count": null,
   "id": "b4f6baa1",
   "metadata": {},
   "outputs": [],
   "source": []
  },
  {
   "cell_type": "code",
   "execution_count": null,
   "id": "010de92d",
   "metadata": {},
   "outputs": [],
   "source": []
  },
  {
   "cell_type": "code",
   "execution_count": null,
   "id": "256a9062",
   "metadata": {},
   "outputs": [],
   "source": []
  },
  {
   "cell_type": "code",
   "execution_count": null,
   "id": "b8e8834f",
   "metadata": {},
   "outputs": [],
   "source": []
  }
 ],
 "metadata": {
  "celltoolbar": "Edit Metadata",
  "kernelspec": {
   "display_name": "Python 3 (ipykernel)",
   "language": "python",
   "name": "python3"
  },
  "language_info": {
   "codemirror_mode": {
    "name": "ipython",
    "version": 3
   },
   "file_extension": ".py",
   "mimetype": "text/x-python",
   "name": "python",
   "nbconvert_exporter": "python",
   "pygments_lexer": "ipython3",
   "version": "3.10.4"
  }
 },
 "nbformat": 4,
 "nbformat_minor": 5
}
